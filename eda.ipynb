{
 "cells": [
  {
   "cell_type": "code",
   "execution_count": 1,
   "metadata": {
    "pycharm": {
     "is_executing": false
    }
   },
   "outputs": [],
   "source": [
    "import pandas as pd\n",
    "import seaborn as sns\n",
    "import matplotlib.pyplot as plt\n",
    "\n",
    "# supressing scientific notation on this notebook and using two decimals\n",
    "pd.options.display.float_format = '{:.2f}'.format"
   ]
  },
  {
   "cell_type": "code",
   "execution_count": 2,
   "metadata": {
    "pycharm": {
     "is_executing": false,
     "name": "#%%\n"
    }
   },
   "outputs": [],
   "source": [
    "# Reading the CSV and storing its contents into a Data Frame\n",
    "rent = pd.read_csv('rent_properties.csv', index_col=False)"
   ]
  },
  {
   "cell_type": "code",
   "execution_count": 3,
   "metadata": {
    "pycharm": {
     "is_executing": false,
     "name": "#%%\n"
    }
   },
   "outputs": [],
   "source": [
    "# Filtering the data according to the distance to the nearest subway station\n",
    "# estate = estate[estate['nearest_station_distance'] <= 1]"
   ]
  },
  {
   "cell_type": "code",
   "execution_count": 4,
   "metadata": {
    "pycharm": {
     "is_executing": false,
     "name": "#%%\n"
    }
   },
   "outputs": [],
   "source": [
    "# Numerical and Categorical features\n",
    "numerical = rent.dtypes[rent.dtypes != \"object\"].index\n",
    "categorical = rent.dtypes[rent.dtypes == \"object\"].index"
   ]
  },
  {
   "cell_type": "code",
   "execution_count": 5,
   "metadata": {
    "pycharm": {
     "is_executing": false,
     "name": "#%%\n"
    }
   },
   "outputs": [],
   "source": [
    "# Setting styles and colours for the graphics\n",
    "sns.set_style('darkgrid')\n",
    "sns.set_palette('pastel')"
   ]
  },
  {
   "cell_type": "code",
   "execution_count": 6,
   "metadata": {
    "pycharm": {
     "is_executing": true,
     "name": "#%%\n"
    }
   },
   "outputs": [
    {
     "data": {
      "image/png": "[encoded data removed]",
      "text/plain": [
       "<Figure size 432x288 with 1 Axes>"
      ]
     },
     "metadata": {},
     "output_type": "display_data"
    }
   ],
   "source": [
    "# Distributions of data\n",
    "sns.boxplot(rent['price'])\n",
    "plt.show()"
   ]
  },
  {
   "cell_type": "code",
   "execution_count": 7,
   "metadata": {
    "pycharm": {
     "is_executing": false,
     "name": "#%%\n"
    },
    "scrolled": false
   },
   "outputs": [
    {
     "data": {
      "text/html": [
       "<div>\n",
       "<style scoped>\n",
       "    .dataframe tbody tr th:only-of-type {\n",
       "        vertical-align: middle;\n",
       "    }\n",
       "\n",
       "    .dataframe tbody tr th {\n",
       "        vertical-align: top;\n",
       "    }\n",
       "\n",
       "    .dataframe thead th {\n",
       "        text-align: right;\n",
       "    }\n",
       "</style>\n",
       "<table border=\"1\" class=\"dataframe\">\n",
       "  <thead>\n",
       "    <tr style=\"text-align: right;\">\n",
       "      <th></th>\n",
       "      <th>price</th>\n",
       "      <th>condo</th>\n",
       "      <th>size</th>\n",
       "      <th>rooms</th>\n",
       "      <th>toilets</th>\n",
       "      <th>suites</th>\n",
       "      <th>parking</th>\n",
       "      <th>elevator</th>\n",
       "      <th>furnished</th>\n",
       "      <th>swimming_pool</th>\n",
       "      <th>new</th>\n",
       "      <th>latitude</th>\n",
       "      <th>longitude</th>\n",
       "      <th>nearest_station_distance</th>\n",
       "    </tr>\n",
       "  </thead>\n",
       "  <tbody>\n",
       "    <tr>\n",
       "      <th>count</th>\n",
       "      <td>7228.00</td>\n",
       "      <td>7228.00</td>\n",
       "      <td>7228.00</td>\n",
       "      <td>7228.00</td>\n",
       "      <td>7228.00</td>\n",
       "      <td>7228.00</td>\n",
       "      <td>7228.00</td>\n",
       "      <td>7228.00</td>\n",
       "      <td>7228.00</td>\n",
       "      <td>7228.00</td>\n",
       "      <td>7228.00</td>\n",
       "      <td>7228.00</td>\n",
       "      <td>7228.00</td>\n",
       "      <td>7228.00</td>\n",
       "    </tr>\n",
       "    <tr>\n",
       "      <th>mean</th>\n",
       "      <td>3077.67</td>\n",
       "      <td>825.19</td>\n",
       "      <td>89.49</td>\n",
       "      <td>2.30</td>\n",
       "      <td>2.11</td>\n",
       "      <td>1.02</td>\n",
       "      <td>1.45</td>\n",
       "      <td>0.30</td>\n",
       "      <td>0.17</td>\n",
       "      <td>0.49</td>\n",
       "      <td>0.00</td>\n",
       "      <td>-22.03</td>\n",
       "      <td>-43.50</td>\n",
       "      <td>385.27</td>\n",
       "    </tr>\n",
       "    <tr>\n",
       "      <th>std</th>\n",
       "      <td>3522.83</td>\n",
       "      <td>835.62</td>\n",
       "      <td>63.98</td>\n",
       "      <td>0.83</td>\n",
       "      <td>1.00</td>\n",
       "      <td>0.88</td>\n",
       "      <td>0.89</td>\n",
       "      <td>0.46</td>\n",
       "      <td>0.38</td>\n",
       "      <td>0.50</td>\n",
       "      <td>0.03</td>\n",
       "      <td>5.96</td>\n",
       "      <td>11.68</td>\n",
       "      <td>1415.47</td>\n",
       "    </tr>\n",
       "    <tr>\n",
       "      <th>min</th>\n",
       "      <td>480.00</td>\n",
       "      <td>0.00</td>\n",
       "      <td>30.00</td>\n",
       "      <td>1.00</td>\n",
       "      <td>1.00</td>\n",
       "      <td>0.00</td>\n",
       "      <td>0.00</td>\n",
       "      <td>0.00</td>\n",
       "      <td>0.00</td>\n",
       "      <td>0.00</td>\n",
       "      <td>0.00</td>\n",
       "      <td>-46.75</td>\n",
       "      <td>-58.36</td>\n",
       "      <td>0.02</td>\n",
       "    </tr>\n",
       "    <tr>\n",
       "      <th>25%</th>\n",
       "      <td>1350.00</td>\n",
       "      <td>395.75</td>\n",
       "      <td>52.00</td>\n",
       "      <td>2.00</td>\n",
       "      <td>2.00</td>\n",
       "      <td>1.00</td>\n",
       "      <td>1.00</td>\n",
       "      <td>0.00</td>\n",
       "      <td>0.00</td>\n",
       "      <td>0.00</td>\n",
       "      <td>0.00</td>\n",
       "      <td>-23.60</td>\n",
       "      <td>-46.69</td>\n",
       "      <td>0.64</td>\n",
       "    </tr>\n",
       "    <tr>\n",
       "      <th>50%</th>\n",
       "      <td>2000.00</td>\n",
       "      <td>595.00</td>\n",
       "      <td>67.00</td>\n",
       "      <td>2.00</td>\n",
       "      <td>2.00</td>\n",
       "      <td>1.00</td>\n",
       "      <td>1.00</td>\n",
       "      <td>0.00</td>\n",
       "      <td>0.00</td>\n",
       "      <td>0.00</td>\n",
       "      <td>0.00</td>\n",
       "      <td>-23.56</td>\n",
       "      <td>-46.64</td>\n",
       "      <td>1.35</td>\n",
       "    </tr>\n",
       "    <tr>\n",
       "      <th>75%</th>\n",
       "      <td>3300.00</td>\n",
       "      <td>990.00</td>\n",
       "      <td>100.00</td>\n",
       "      <td>3.00</td>\n",
       "      <td>2.00</td>\n",
       "      <td>1.00</td>\n",
       "      <td>2.00</td>\n",
       "      <td>1.00</td>\n",
       "      <td>0.00</td>\n",
       "      <td>1.00</td>\n",
       "      <td>0.00</td>\n",
       "      <td>-23.52</td>\n",
       "      <td>-46.59</td>\n",
       "      <td>2.78</td>\n",
       "    </tr>\n",
       "    <tr>\n",
       "      <th>max</th>\n",
       "      <td>50000.00</td>\n",
       "      <td>9500.00</td>\n",
       "      <td>880.00</td>\n",
       "      <td>10.00</td>\n",
       "      <td>8.00</td>\n",
       "      <td>5.00</td>\n",
       "      <td>9.00</td>\n",
       "      <td>1.00</td>\n",
       "      <td>1.00</td>\n",
       "      <td>1.00</td>\n",
       "      <td>1.00</td>\n",
       "      <td>0.00</td>\n",
       "      <td>0.00</td>\n",
       "      <td>5653.93</td>\n",
       "    </tr>\n",
       "  </tbody>\n",
       "</table>\n",
       "</div>"
      ],
      "text/plain": [
       "         price   condo    size   rooms  toilets  suites  parking  elevator  \\\n",
       "count  7228.00 7228.00 7228.00 7228.00  7228.00 7228.00  7228.00   7228.00   \n",
       "mean   3077.67  825.19   89.49    2.30     2.11    1.02     1.45      0.30   \n",
       "std    3522.83  835.62   63.98    0.83     1.00    0.88     0.89      0.46   \n",
       "min     480.00    0.00   30.00    1.00     1.00    0.00     0.00      0.00   \n",
       "25%    1350.00  395.75   52.00    2.00     2.00    1.00     1.00      0.00   \n",
       "50%    2000.00  595.00   67.00    2.00     2.00    1.00     1.00      0.00   \n",
       "75%    3300.00  990.00  100.00    3.00     2.00    1.00     2.00      1.00   \n",
       "max   50000.00 9500.00  880.00   10.00     8.00    5.00     9.00      1.00   \n",
       "\n",
       "       furnished  swimming_pool     new  latitude  longitude  \\\n",
       "count    7228.00        7228.00 7228.00   7228.00    7228.00   \n",
       "mean        0.17           0.49    0.00    -22.03     -43.50   \n",
       "std         0.38           0.50    0.03      5.96      11.68   \n",
       "min         0.00           0.00    0.00    -46.75     -58.36   \n",
       "25%         0.00           0.00    0.00    -23.60     -46.69   \n",
       "50%         0.00           0.00    0.00    -23.56     -46.64   \n",
       "75%         0.00           1.00    0.00    -23.52     -46.59   \n",
       "max         1.00           1.00    1.00      0.00       0.00   \n",
       "\n",
       "       nearest_station_distance  \n",
       "count                   7228.00  \n",
       "mean                     385.27  \n",
       "std                     1415.47  \n",
       "min                        0.02  \n",
       "25%                        0.64  \n",
       "50%                        1.35  \n",
       "75%                        2.78  \n",
       "max                     5653.93  "
      ]
     },
     "execution_count": 7,
     "metadata": {},
     "output_type": "execute_result"
    }
   ],
   "source": [
    "# Broad view of data\n",
    "rent.describe()"
   ]
  },
  {
   "cell_type": "code",
   "execution_count": 8,
   "metadata": {},
   "outputs": [
    {
     "data": {
      "text/plain": [
       "<matplotlib.axes._subplots.AxesSubplot at 0x120aa0f98>"
      ]
     },
     "execution_count": 8,
     "metadata": {},
     "output_type": "execute_result"
    },
    {
     "data": {
      "image/png": "[encoded data removed]",
      "text/plain": [
       "<Figure size 432x288 with 1 Axes>"
      ]
     },
     "metadata": {},
     "output_type": "display_data"
    }
   ],
   "source": [
    "rent['price'].hist()"
   ]
  },
  {
   "cell_type": "code",
   "execution_count": 9,
   "metadata": {
    "pycharm": {
     "is_executing": true,
     "name": "#%%\n"
    }
   },
   "outputs": [
    {
     "name": "stdout",
     "output_type": "stream",
     "text": [
      "count    7228.00\n",
      "mean     3077.67\n",
      "std      3522.83\n",
      "min       480.00\n",
      "25%      1350.00\n",
      "50%      2000.00\n",
      "75%      3300.00\n",
      "max     50000.00\n",
      "Name: price, dtype: float64\n",
      "Skewness: 4.874126115526219\n",
      "Kurtosis: 37.09065150344797\n"
     ]
    }
   ],
   "source": [
    "# Skewness and Kurtosis\n",
    "skewness = rent['price'].skew()\n",
    "kurtosis = rent['price'].kurt()\n",
    "print(rent['price'].describe())\n",
    "print(f'Skewness: {skewness}')\n",
    "print(f'Kurtosis: {kurtosis}')"
   ]
  },
  {
   "cell_type": "code",
   "execution_count": 10,
   "metadata": {
    "pycharm": {
     "is_executing": true,
     "name": "#%%\n"
    }
   },
   "outputs": [
    {
     "name": "stdout",
     "output_type": "stream",
     "text": [
      "price                      1950.00\n",
      "condo                       594.25\n",
      "size                         48.00\n",
      "rooms                         1.00\n",
      "toilets                       0.00\n",
      "suites                        0.00\n",
      "parking                       1.00\n",
      "elevator                      1.00\n",
      "furnished                     0.00\n",
      "swimming_pool                 1.00\n",
      "new                           0.00\n",
      "latitude                      0.08\n",
      "longitude                     0.10\n",
      "nearest_station_distance      2.14\n",
      "dtype: float64\n"
     ]
    }
   ],
   "source": [
    "# Interquartile range (IQR) is a measure of statistical dispersion, \n",
    "# being equal to the difference between 75th and 25th percentiles\n",
    "Q1 = rent.quantile(0.25)\n",
    "Q3 = rent.quantile(0.75)\n",
    "IQR = Q3 - Q1\n",
    "print(IQR)"
   ]
  },
  {
   "cell_type": "code",
   "execution_count": 11,
   "metadata": {},
   "outputs": [],
   "source": [
    "# What is this line doing?\n",
    "rent = rent[~((rent < (Q1 - 1.5 * IQR)) | (rent > (Q3 + 1.5 * IQR))).any(axis=1)]"
   ]
  },
  {
   "cell_type": "code",
   "execution_count": 12,
   "metadata": {},
   "outputs": [
    {
     "data": {
      "text/html": [
       "<div>\n",
       "<style scoped>\n",
       "    .dataframe tbody tr th:only-of-type {\n",
       "        vertical-align: middle;\n",
       "    }\n",
       "\n",
       "    .dataframe tbody tr th {\n",
       "        vertical-align: top;\n",
       "    }\n",
       "\n",
       "    .dataframe thead th {\n",
       "        text-align: right;\n",
       "    }\n",
       "</style>\n",
       "<table border=\"1\" class=\"dataframe\">\n",
       "  <thead>\n",
       "    <tr style=\"text-align: right;\">\n",
       "      <th></th>\n",
       "      <th>price</th>\n",
       "      <th>condo</th>\n",
       "      <th>size</th>\n",
       "      <th>rooms</th>\n",
       "      <th>toilets</th>\n",
       "      <th>suites</th>\n",
       "      <th>parking</th>\n",
       "      <th>elevator</th>\n",
       "      <th>furnished</th>\n",
       "      <th>swimming_pool</th>\n",
       "      <th>new</th>\n",
       "      <th>latitude</th>\n",
       "      <th>longitude</th>\n",
       "      <th>nearest_station_distance</th>\n",
       "    </tr>\n",
       "  </thead>\n",
       "  <tbody>\n",
       "    <tr>\n",
       "      <th>count</th>\n",
       "      <td>3037.00</td>\n",
       "      <td>3037.00</td>\n",
       "      <td>3037.00</td>\n",
       "      <td>3037.00</td>\n",
       "      <td>3037.00</td>\n",
       "      <td>3037.00</td>\n",
       "      <td>3037.00</td>\n",
       "      <td>3037.00</td>\n",
       "      <td>3037.00</td>\n",
       "      <td>3037.00</td>\n",
       "      <td>3037.00</td>\n",
       "      <td>3037.00</td>\n",
       "      <td>3037.00</td>\n",
       "      <td>3037.00</td>\n",
       "    </tr>\n",
       "    <tr>\n",
       "      <th>mean</th>\n",
       "      <td>1921.08</td>\n",
       "      <td>557.03</td>\n",
       "      <td>69.28</td>\n",
       "      <td>2.24</td>\n",
       "      <td>2.00</td>\n",
       "      <td>1.00</td>\n",
       "      <td>1.25</td>\n",
       "      <td>0.34</td>\n",
       "      <td>0.00</td>\n",
       "      <td>0.44</td>\n",
       "      <td>0.00</td>\n",
       "      <td>-23.56</td>\n",
       "      <td>-46.63</td>\n",
       "      <td>1.70</td>\n",
       "    </tr>\n",
       "    <tr>\n",
       "      <th>std</th>\n",
       "      <td>933.75</td>\n",
       "      <td>355.23</td>\n",
       "      <td>24.48</td>\n",
       "      <td>0.66</td>\n",
       "      <td>0.00</td>\n",
       "      <td>0.00</td>\n",
       "      <td>0.49</td>\n",
       "      <td>0.47</td>\n",
       "      <td>0.00</td>\n",
       "      <td>0.50</td>\n",
       "      <td>0.00</td>\n",
       "      <td>0.05</td>\n",
       "      <td>0.08</td>\n",
       "      <td>1.30</td>\n",
       "    </tr>\n",
       "    <tr>\n",
       "      <th>min</th>\n",
       "      <td>480.00</td>\n",
       "      <td>0.00</td>\n",
       "      <td>30.00</td>\n",
       "      <td>1.00</td>\n",
       "      <td>2.00</td>\n",
       "      <td>1.00</td>\n",
       "      <td>0.00</td>\n",
       "      <td>0.00</td>\n",
       "      <td>0.00</td>\n",
       "      <td>0.00</td>\n",
       "      <td>0.00</td>\n",
       "      <td>-23.70</td>\n",
       "      <td>-46.80</td>\n",
       "      <td>0.02</td>\n",
       "    </tr>\n",
       "    <tr>\n",
       "      <th>25%</th>\n",
       "      <td>1250.00</td>\n",
       "      <td>350.00</td>\n",
       "      <td>52.00</td>\n",
       "      <td>2.00</td>\n",
       "      <td>2.00</td>\n",
       "      <td>1.00</td>\n",
       "      <td>1.00</td>\n",
       "      <td>0.00</td>\n",
       "      <td>0.00</td>\n",
       "      <td>0.00</td>\n",
       "      <td>0.00</td>\n",
       "      <td>-23.60</td>\n",
       "      <td>-46.69</td>\n",
       "      <td>0.66</td>\n",
       "    </tr>\n",
       "    <tr>\n",
       "      <th>50%</th>\n",
       "      <td>1600.00</td>\n",
       "      <td>524.00</td>\n",
       "      <td>64.00</td>\n",
       "      <td>2.00</td>\n",
       "      <td>2.00</td>\n",
       "      <td>1.00</td>\n",
       "      <td>1.00</td>\n",
       "      <td>0.00</td>\n",
       "      <td>0.00</td>\n",
       "      <td>0.00</td>\n",
       "      <td>0.00</td>\n",
       "      <td>-23.56</td>\n",
       "      <td>-46.63</td>\n",
       "      <td>1.34</td>\n",
       "    </tr>\n",
       "    <tr>\n",
       "      <th>75%</th>\n",
       "      <td>2399.00</td>\n",
       "      <td>732.00</td>\n",
       "      <td>79.00</td>\n",
       "      <td>3.00</td>\n",
       "      <td>2.00</td>\n",
       "      <td>1.00</td>\n",
       "      <td>1.00</td>\n",
       "      <td>1.00</td>\n",
       "      <td>0.00</td>\n",
       "      <td>1.00</td>\n",
       "      <td>0.00</td>\n",
       "      <td>-23.53</td>\n",
       "      <td>-46.58</td>\n",
       "      <td>2.40</td>\n",
       "    </tr>\n",
       "    <tr>\n",
       "      <th>max</th>\n",
       "      <td>6200.00</td>\n",
       "      <td>1850.00</td>\n",
       "      <td>172.00</td>\n",
       "      <td>4.00</td>\n",
       "      <td>2.00</td>\n",
       "      <td>1.00</td>\n",
       "      <td>3.00</td>\n",
       "      <td>1.00</td>\n",
       "      <td>0.00</td>\n",
       "      <td>1.00</td>\n",
       "      <td>0.00</td>\n",
       "      <td>-23.42</td>\n",
       "      <td>-46.43</td>\n",
       "      <td>5.68</td>\n",
       "    </tr>\n",
       "  </tbody>\n",
       "</table>\n",
       "</div>"
      ],
      "text/plain": [
       "        price   condo    size   rooms  toilets  suites  parking  elevator  \\\n",
       "count 3037.00 3037.00 3037.00 3037.00  3037.00 3037.00  3037.00   3037.00   \n",
       "mean  1921.08  557.03   69.28    2.24     2.00    1.00     1.25      0.34   \n",
       "std    933.75  355.23   24.48    0.66     0.00    0.00     0.49      0.47   \n",
       "min    480.00    0.00   30.00    1.00     2.00    1.00     0.00      0.00   \n",
       "25%   1250.00  350.00   52.00    2.00     2.00    1.00     1.00      0.00   \n",
       "50%   1600.00  524.00   64.00    2.00     2.00    1.00     1.00      0.00   \n",
       "75%   2399.00  732.00   79.00    3.00     2.00    1.00     1.00      1.00   \n",
       "max   6200.00 1850.00  172.00    4.00     2.00    1.00     3.00      1.00   \n",
       "\n",
       "       furnished  swimming_pool     new  latitude  longitude  \\\n",
       "count    3037.00        3037.00 3037.00   3037.00    3037.00   \n",
       "mean        0.00           0.44    0.00    -23.56     -46.63   \n",
       "std         0.00           0.50    0.00      0.05       0.08   \n",
       "min         0.00           0.00    0.00    -23.70     -46.80   \n",
       "25%         0.00           0.00    0.00    -23.60     -46.69   \n",
       "50%         0.00           0.00    0.00    -23.56     -46.63   \n",
       "75%         0.00           1.00    0.00    -23.53     -46.58   \n",
       "max         0.00           1.00    0.00    -23.42     -46.43   \n",
       "\n",
       "       nearest_station_distance  \n",
       "count                   3037.00  \n",
       "mean                       1.70  \n",
       "std                        1.30  \n",
       "min                        0.02  \n",
       "25%                        0.66  \n",
       "50%                        1.34  \n",
       "75%                        2.40  \n",
       "max                        5.68  "
      ]
     },
     "execution_count": 12,
     "metadata": {},
     "output_type": "execute_result"
    }
   ],
   "source": [
    "rent.describe()"
   ]
  },
  {
   "cell_type": "code",
   "execution_count": 13,
   "metadata": {},
   "outputs": [
    {
     "data": {
      "image/png": "[encoded data removed]",
      "text/plain": [
       "<Figure size 432x288 with 1 Axes>"
      ]
     },
     "metadata": {},
     "output_type": "display_data"
    }
   ],
   "source": [
    "# Distributions of data\n",
    "sns.boxplot(x=rent['price'])\n",
    "plt.show()"
   ]
  },
  {
   "cell_type": "code",
   "execution_count": null,
   "metadata": {},
   "outputs": [],
   "source": []
  }
 ],
 "metadata": {
  "kernelspec": {
   "display_name": "Python 3",
   "language": "python",
   "name": "python3"
  },
  "language_info": {
   "codemirror_mode": {
    "name": "ipython",
    "version": 3
   },
   "file_extension": ".py",
   "mimetype": "text/x-python",
   "name": "python",
   "nbconvert_exporter": "python",
   "pygments_lexer": "ipython3",
   "version": "3.7.3"
  },
  "pycharm": {
   "stem_cell": {
    "cell_type": "raw",
    "metadata": {
     "collapsed": false
    },
    "source": []
   }
  }
 },
 "nbformat": 4,
 "nbformat_minor": 1
}
